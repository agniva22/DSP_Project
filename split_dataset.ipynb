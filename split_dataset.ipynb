{
  "cells": [
    {
      "cell_type": "code",
      "execution_count": null,
      "metadata": {},
      "outputs": [],
      "source": [
        "import os\n",
        "import shutil\n",
        "import random"
      ]
    },
    {
      "cell_type": "code",
      "execution_count": 5,
      "metadata": {},
      "outputs": [
        {
          "name": "stdout",
          "output_type": "stream",
          "text": [
            "train_num: 1632\n",
            "val_num: 204\n",
            "test_num: 205\n"
          ]
        }
      ],
      "source": [
        "# Set a seed for reproducibility\n",
        "random.seed(42)\n",
        "\n",
        "# Define paths\n",
        "base_dir = r'E:\\Face_fake_detection\\Data_files'\n",
        "full_ds_dir = os.path.join(base_dir, 'full_ds')\n",
        "split_ds_dir = os.path.join(base_dir, 'split_ds')\n",
        "\n",
        "# Define class names\n",
        "two_classes = [\"fake\", \"real\"]\n",
        "\n",
        "# Create directories for split datasets\n",
        "for split in ['training', 'validation', 'testing']:\n",
        "    for cls in two_classes:\n",
        "        os.makedirs(os.path.join(split_ds_dir, split, cls), exist_ok=True)\n",
        "\n",
        "# Gather image paths\n",
        "class_1 = []\n",
        "class_2 = []\n",
        "\n",
        "for cls in two_classes:\n",
        "    cls_dir = os.path.join(full_ds_dir, cls)\n",
        "    for image in os.listdir(cls_dir):\n",
        "        if cls == two_classes[0]:\n",
        "            class_1.append(os.path.join(cls_dir, image))\n",
        "        else:\n",
        "            class_2.append(os.path.join(cls_dir, image))\n",
        "\n",
        "# Combine and shuffle images\n",
        "images = class_1 + class_2\n",
        "random.shuffle(images)\n",
        "\n",
        "# Split data into train, validation, and test sets\n",
        "num_images = len(images)\n",
        "train_num = int(0.8 * num_images)\n",
        "val_num = int(0.1 * num_images)\n",
        "print(\"train_num:\", train_num)\n",
        "print(\"val_num:\", val_num)\n",
        "print(\"test_num:\", num_images - train_num - val_num)\n",
        "\n",
        "train = images[:train_num]\n",
        "val = images[train_num:train_num + val_num]\n",
        "test = images[train_num + val_num:]\n",
        "\n",
        "# Function to copy files to the corresponding directories\n",
        "def copy_files(image_list, split_type):\n",
        "    for image in image_list:\n",
        "        # Determine the class of the image\n",
        "        if 'fake' in image:\n",
        "            class_name = 'fake'\n",
        "        elif 'real' in image:\n",
        "            class_name = 'real'\n",
        "        else:\n",
        "            print(f\"Unexpected file: {image}\")\n",
        "            continue\n",
        "        \n",
        "        # Determine the destination directory\n",
        "        dest_dir = os.path.join(split_ds_dir, split_type, class_name)\n",
        "        \n",
        "        # Copy the image file\n",
        "        shutil.copy(image, dest_dir)\n",
        "\n",
        "# Copy files to the corresponding directories\n",
        "copy_files(train, 'training')\n",
        "copy_files(val, 'validation')\n",
        "copy_files(test, 'testing')\n"
      ]
    }
  ],
  "metadata": {
    "colab": {
      "authorship_tag": "ABX9TyNN2hYPfQIf1vZ68NUZ4fxu",
      "collapsed_sections": [],
      "include_colab_link": true,
      "mount_file_id": "1ULwSyd2ZI3osiHE79X6KvGrXmE0qTV1S",
      "name": "split_dataset.ipynb",
      "provenance": []
    },
    "kernelspec": {
      "display_name": "Python 3",
      "name": "python3"
    },
    "language_info": {
      "codemirror_mode": {
        "name": "ipython",
        "version": 3
      },
      "file_extension": ".py",
      "mimetype": "text/x-python",
      "name": "python",
      "nbconvert_exporter": "python",
      "pygments_lexer": "ipython3",
      "version": "3.11.5"
    }
  },
  "nbformat": 4,
  "nbformat_minor": 0
}
