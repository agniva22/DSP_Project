{
 "cells": [
  {
   "cell_type": "markdown",
   "metadata": {},
   "source": [
    "# Imports"
   ]
  },
  {
   "cell_type": "code",
   "execution_count": null,
   "metadata": {},
   "outputs": [],
   "source": [
    "import os\n",
    "import cv2\n",
    "import shutil\n",
    "import numpy as np\n",
    "import dlib"
   ]
  },
  {
   "cell_type": "markdown",
   "metadata": {},
   "source": [
    "# Split fake images into easy, mid, hard "
   ]
  },
  {
   "cell_type": "code",
   "execution_count": null,
   "metadata": {},
   "outputs": [],
   "source": [
    "source_folder = './Data_files/full_ds/fake'\n",
    "destination_folder = './Data_files/Augmented_ds'\n",
    "\n",
    "# Create the destination subfolders\n",
    "os.makedirs(os.path.join(destination_folder, 'easy'), exist_ok=True)\n",
    "os.makedirs(os.path.join(destination_folder, 'mid'), exist_ok=True)\n",
    "os.makedirs(os.path.join(destination_folder, 'hard'), exist_ok=True)\n",
    "\n",
    "for filename in os.listdir(source_folder):\n",
    "    if filename.startswith('easy'):\n",
    "        shutil.move(os.path.join(source_folder, filename), os.path.join(destination_folder, 'easy', filename))\n",
    "    elif filename.startswith('mid'):\n",
    "        shutil.move(os.path.join(source_folder, filename), os.path.join(destination_folder, 'mid', filename))\n",
    "    elif filename.startswith('hard'):\n",
    "        shutil.move(os.path.join(source_folder, filename), os.path.join(destination_folder, 'hard', filename))\n",
    "\n",
    "print(\"Images organized successfully!\")"
   ]
  },
  {
   "cell_type": "markdown",
   "metadata": {},
   "source": [
    "# Apply Augmentation and Crop face on fake images"
   ]
  },
  {
   "cell_type": "code",
   "execution_count": null,
   "metadata": {
    "colab": {
     "base_uri": "https://localhost:8080/"
    },
    "executionInfo": {
     "elapsed": 152743,
     "status": "ok",
     "timestamp": 1729948373282,
     "user": {
      "displayName": "Agniva Banerjee 2410701",
      "userId": "12947751280517308704"
     },
     "user_tz": -330
    },
    "id": "dDFgxc-f8Kfr",
    "outputId": "74ec8df9-8639-4d9e-a419-86a4668a6439"
   },
   "outputs": [],
   "source": [
    "detector = dlib.get_frontal_face_detector()\n",
    "predictor = dlib.shape_predictor(\"./shape_predictor_68_face_landmarks.dat\") \n",
    "\n",
    "# Define augmentations\n",
    "def apply_faceshifter(image):\n",
    "    return cv2.flip(image, 1) \n",
    "\n",
    "def width_shift(image, shift_pixels=10):\n",
    "    rows, cols, _ = image.shape\n",
    "    M = np.float32([[1, 0, shift_pixels], [0, 1, 0]])\n",
    "    return cv2.warpAffine(image, M, (cols, rows))\n",
    "\n",
    "def height_shift(image, shift_pixels=10):\n",
    "    rows, cols, _ = image.shape\n",
    "    M = np.float32([[1, 0, 0], [0, 1, shift_pixels]])\n",
    "    return cv2.warpAffine(image, M, (cols, rows))\n",
    "\n",
    "def rotate_image(image, angle=15):\n",
    "    rows, cols, _ = image.shape\n",
    "    M = cv2.getRotationMatrix2D((cols / 2, rows / 2), angle, 1)\n",
    "    return cv2.warpAffine(image, M, (cols, rows))\n",
    "\n",
    "def crop_face(image):\n",
    "    gray = cv2.cvtColor(image, cv2.COLOR_BGR2GRAY)  \n",
    "    faces = detector(gray)\n",
    "\n",
    "    if len(faces) == 0:\n",
    "        return image  \n",
    "\n",
    "    for face in faces:\n",
    "        x = face.left()\n",
    "        y = face.top()\n",
    "        w = face.width()\n",
    "        h = face.height()\n",
    "\n",
    "        # Ensure the dimensions are within bounds\n",
    "        if x < 0 or y < 0 or x + w > image.shape[1] or y + h > image.shape[0]:\n",
    "            return image  \n",
    "\n",
    "        return image[y:y + h, x:x + w]\n",
    "    \n",
    "folder_path = \"./Data_files/Augmented_ds/easy\"\n",
    "# folder_path = \"./Data_files/Augmented_ds/mid\"\n",
    "# folder_path = \"./Data_files/Augmented_ds/hard\"\n",
    "\n",
    "for filename in os.listdir(folder_path):\n",
    "    if filename.lower().endswith(('.png', '.jpg', '.jpeg')):\n",
    "        image_path = os.path.join(folder_path, filename)\n",
    "\n",
    "        image = cv2.imread(image_path)\n",
    "\n",
    "        cropped_original = crop_face(image)\n",
    "        cropped_original_path = os.path.join(folder_path, f\"{os.path.splitext(filename)[0]}_cropped.jpg\")\n",
    "        cv2.imwrite(cropped_original_path, cropped_original)\n",
    "        os.remove(image_path)\n",
    "\n",
    "        # Perform augmentations\n",
    "        augmentations = {\n",
    "            \"faceshifter\": apply_faceshifter(image.copy()),\n",
    "            \"width_shift\": width_shift(image.copy(), shift_pixels=10),\n",
    "            \"height_shift\": height_shift(image.copy(), shift_pixels=10),\n",
    "            \"rotate\": rotate_image(image.copy(), angle=15)\n",
    "        }\n",
    "\n",
    "        # Crop faces and save augmented images\n",
    "        for aug_name, aug_image in augmentations.items():\n",
    "            cropped_image = crop_face(aug_image)\n",
    "            aug_image_path = os.path.join(folder_path, f\"{os.path.splitext(filename)[0]}_{aug_name}.jpg\")\n",
    "            cv2.imwrite(aug_image_path, cropped_image)\n",
    "\n",
    "print(\"Augmentation completed!\")\n",
    "\n",
    "for filename in os.listdir(folder_path):\n",
    "    if filename.endswith('.jpg') and not any(descriptor in filename for descriptor in ['width_shift', 'cropped', 'rotate', 'height_shift', 'faceshifter']):\n",
    "        file_path = os.path.join(folder_path, filename)\n",
    "        os.remove(file_path)\n",
    "        print(f\"Removed: {file_path}\")"
   ]
  },
  {
   "cell_type": "markdown",
   "metadata": {},
   "source": [
    "# Apply only face crop on real images"
   ]
  },
  {
   "cell_type": "code",
   "execution_count": null,
   "metadata": {
    "colab": {
     "base_uri": "https://localhost:8080/"
    },
    "executionInfo": {
     "elapsed": 399825,
     "status": "ok",
     "timestamp": 1730009911515,
     "user": {
      "displayName": "Agniva Banerjee 2410701",
      "userId": "12947751280517308704"
     },
     "user_tz": -330
    },
    "id": "rWbcr7WdjKpm",
    "outputId": "0b5e25cd-d352-4e6e-80dd-7a41473f8758"
   },
   "outputs": [],
   "source": [
    "def crop_faces_from_folder(folder_path):\n",
    "    detector = dlib.get_frontal_face_detector()\n",
    "    predictor = dlib.shape_predictor(\"./shape_predictor_68_face_landmarks.dat\")  \n",
    "\n",
    "    for filename in os.listdir(folder_path):\n",
    "        if filename.endswith(('.jpg', '.jpeg', '.png')): \n",
    "            image_path = os.path.join(folder_path, filename)\n",
    "            image = cv2.imread(image_path)\n",
    "\n",
    "            if image is None:\n",
    "                print(f\"Error loading image: {filename}\")\n",
    "                continue\n",
    "\n",
    "            faces = detector(image, 1)\n",
    "\n",
    "            if len(faces) == 0:\n",
    "                print(f\"No faces detected in: {filename}\")\n",
    "                os.remove(image_path)  \n",
    "                continue\n",
    "\n",
    "            for i, face in enumerate(faces):\n",
    "                x = face.left()\n",
    "                y = face.top()\n",
    "                w = face.right() - x\n",
    "                h = face.bottom() - y\n",
    "\n",
    "                if x < 0 or y < 0 or w <= 0 or h <= 0:\n",
    "                    print(f\"Invalid face coordinates for: {filename}\")\n",
    "                    continue\n",
    "\n",
    "                cropped_face = image[y:y+h, x:x+w]\n",
    "\n",
    "                if cropped_face.size > 0:\n",
    "                    cropped_face_path = os.path.join(folder_path, f\"{filename}_face_{i+1}.jpg\")\n",
    "                    cv2.imwrite(cropped_face_path, cropped_face)\n",
    "\n",
    "                else:\n",
    "                    print(f\"Cropped face is empty for: {filename}\")\n",
    "\n",
    "            # Delete the original image\n",
    "            os.remove(image_path)\n",
    "            print(f\"Processed and removed: {filename}\")\n",
    "\n",
    "folder_path = './Data_files/full_ds/real' \n",
    "crop_faces_from_folder(folder_path)"
   ]
  }
 ],
 "metadata": {
  "accelerator": "GPU",
  "colab": {
   "authorship_tag": "ABX9TyNyxpWtYdz7x9wqwqmu9pKF",
   "gpuType": "T4",
   "provenance": []
  },
  "kernelspec": {
   "display_name": "Python 3",
   "name": "python3"
  },
  "language_info": {
   "codemirror_mode": {
    "name": "ipython",
    "version": 3
   },
   "file_extension": ".py",
   "mimetype": "text/x-python",
   "name": "python",
   "nbconvert_exporter": "python",
   "pygments_lexer": "ipython3",
   "version": "3.11.5"
  }
 },
 "nbformat": 4,
 "nbformat_minor": 0
}
